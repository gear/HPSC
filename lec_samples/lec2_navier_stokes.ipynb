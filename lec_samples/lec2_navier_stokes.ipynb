{
 "cells": [
  {
   "cell_type": "markdown",
   "metadata": {},
   "source": [
    "# High performance scientific computing\n",
    "Lecturer: Assoc. Prof. Yokota Rio - Lecture 2: 12 steps to Navier-Stokes equation\n",
    "## Step 1: 1-D Linear Convection"
   ]
  },
  {
   "cell_type": "markdown",
   "metadata": {},
   "source": [
    "The equation for the system is described as a first order linear differential equation:\n",
    "$$ \\frac{\\partial u}{\\partial t} + c\\frac{\\partial u}{\\partial x} = 0 \\\\$$\n",
    "By discretizing the derivative part: (forward for $t$ and backward for $u$)\n",
    "$$\\frac{u^{n+1}_{i}-u^n_i}{\\Delta t} + c \\frac{u^{n}_{i}-u^n_{i-1}}{\\Delta t} = 0 \\\\$$\n",
    "The iterative solution for this is:\n",
    "$$u^{n+1}_{i} = u^n_i - c \\frac{\\Delta t}{\\Delta x}(u^n_i - u^n_{i-1}) \\\\$$"
   ]
  },
  {
   "cell_type": "code",
   "execution_count": 3,
   "metadata": {
    "collapsed": true
   },
   "outputs": [],
   "source": [
    "import numpy as np\n",
    "from matplotlib import pyplot"
   ]
  },
  {
   "cell_type": "code",
   "execution_count": null,
   "metadata": {
    "collapsed": false
   },
   "outputs": [],
   "source": [
    "# Iterative for 1-D linear convection\n",
    "nx = 41 # Number of horizontal location points (x axis on graph)\n",
    "dx = 2./(nx-1) # Space between points\n",
    "nt = 100 # Number of time step (iteration)\n",
    "dt = .01 # Resolution of the time step\n",
    "c = 1 # Constant, speed of convection\n",
    "x = np.linspace(0,2,nx) # vector store value of x\n",
    "u = np.ones(nx) # vector store the ground values of velocity \n",
    "u[1:10] = 2 # initial values of velocity\n",
    "\n",
    "for n in range(nt):\n",
    "    un = u.copy()\n",
    "    for i in range(1, nx-1):\n",
    "        u[i] = un[i] - c * dt / dx * (un[i] - un[i-1])\n",
    "    pyplot.plot(x, u)\n",
    "    pyplot.axis([0, 2, .5, 2.5])\n",
    "    pyplot.pause(.05)\n",
    "    pyplot.cla()\n",
    "pyplot.show()"
   ]
  },
  {
   "cell_type": "code",
   "execution_count": null,
   "metadata": {
    "collapsed": true
   },
   "outputs": [],
   "source": []
  }
 ],
 "metadata": {
  "kernelspec": {
   "display_name": "Python 2",
   "language": "python",
   "name": "python2"
  },
  "language_info": {
   "codemirror_mode": {
    "name": "ipython",
    "version": 2
   },
   "file_extension": ".py",
   "mimetype": "text/x-python",
   "name": "python",
   "nbconvert_exporter": "python",
   "pygments_lexer": "ipython2",
   "version": "2.7.10"
  }
 },
 "nbformat": 4,
 "nbformat_minor": 0
}
