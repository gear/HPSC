{
 "cells": [
  {
   "cell_type": "markdown",
   "metadata": {},
   "source": [
    "# High performance scientific computing\n",
    "Lecturer: Assoc. Prof. Yokota Rio - Lecture 2: 12 steps to Navier-Stokes equation\n",
    "## Step 1: 1-D Linear Convection"
   ]
  },
  {
   "cell_type": "markdown",
   "metadata": {},
   "source": [
    "The equation for the system is described as a first order linear differential equation:\n",
    "$$ \\frac{\\partial u}{\\partial t} + c\\frac{\\partial u}{\\partial x} = 0 \\\\$$\n",
    "By discretizing the derivative part: (forward for $t$ and backward for $u$)\n",
    "$$\\frac{u^{n+1}_{i}-u^n_i}{\\Delta t} + c \\frac{u^{n}_{i}-u^n_{i-1}}{\\Delta t} = 0 \\\\$$\n",
    "The iterative solution for this is:\n",
    "$$u^{n+1}_{i} = u^n_i - c \\frac{\\Delta t}{\\Delta x}(u^n_i - u^n_{i-1}) \\\\$$"
   ]
  },
  {
   "cell_type": "code",
   "execution_count": 5,
   "metadata": {
    "collapsed": true
   },
   "outputs": [],
   "source": [
    "import numpy as np\n",
    "from matplotlib import pyplot"
   ]
  },
  {
   "cell_type": "code",
   "execution_count": 8,
   "metadata": {
    "collapsed": false
   },
   "outputs": [],
   "source": [
    "# Iterative for 1-D linear convection\n",
    "def lin_convection_1d(nx=41, nt=100, dt=0.1, c=1, u_init = [2,2,2,2]) :\n",
    "    '''\n",
    "    nx = 41 # Number of horizontal location points (x axis on graph)\n",
    "    nt = 100 # Number of time step (iteration)\n",
    "    dt = .01 # Resolution of the time step\n",
    "    c = 1 # Constant, speed of convection\n",
    "    '''\n",
    "    dx = 2./(nx-1) # Space between points\n",
    "    x = np.linspace(0,2,nx) # vector store value of x\n",
    "    u = np.ones(nx) # vector store the ground values of velocity\n",
    "    u[5:(5+len(u_init))] = u_init[:]\n",
    "    for n in range(nt):\n",
    "        un = u.copy()\n",
    "        for i in range(1, nx-1):\n",
    "            u[i] = un[i] - c * dt / dx * (un[i] - un[i-1])\n",
    "        pyplot.plot(x, u)\n",
    "        pyplot.axis([0, 2, .5, 2.5])\n",
    "        pyplot.pause(0.5)\n",
    "        pyplot.cla()\n",
    "    pyplot.show()"
   ]
  },
  {
   "cell_type": "code",
   "execution_count": 10,
   "metadata": {
    "collapsed": false
   },
   "outputs": [],
   "source": [
    "lin_convection_1d(nt=20,u_init=2*np.ones(10))"
   ]
  },
  {
   "cell_type": "code",
   "execution_count": 20,
   "metadata": {
    "collapsed": false
   },
   "outputs": [],
   "source": [
    "def f(x):\n",
    "    return x**3 - 3*x**2 + 9*x - 13"
   ]
  },
  {
   "cell_type": "code",
   "execution_count": 21,
   "metadata": {
    "collapsed": false
   },
   "outputs": [
    {
     "data": {
      "text/plain": [
       "777"
      ]
     },
     "execution_count": 21,
     "metadata": {},
     "output_type": "execute_result"
    }
   ],
   "source": [
    "f(10)"
   ]
  },
  {
   "cell_type": "code",
   "execution_count": 24,
   "metadata": {
    "collapsed": false
   },
   "outputs": [],
   "source": [
    "def p(x,a) : \n",
    "    return ( (a-11)*x**5 + (160-15*a)*x**4 + (85*a-865)*x**3 + (2180-225*a)*x**2\n",
    "+ (274*a - 2424)*x - 120*a + 1080 ) / 120.0;"
   ]
  },
  {
   "cell_type": "code",
   "execution_count": 28,
   "metadata": {
    "collapsed": false
   },
   "outputs": [
    {
     "data": {
      "text/plain": [
       "8.0"
      ]
     },
     "execution_count": 28,
     "metadata": {},
     "output_type": "execute_result"
    }
   ],
   "source": [
    "p(6,8)"
   ]
  },
  {
   "cell_type": "code",
   "execution_count": null,
   "metadata": {
    "collapsed": true
   },
   "outputs": [],
   "source": []
  }
 ],
 "metadata": {
  "kernelspec": {
   "display_name": "Python 2",
   "language": "python",
   "name": "python2"
  },
  "language_info": {
   "codemirror_mode": {
    "name": "ipython",
    "version": 2
   },
   "file_extension": ".py",
   "mimetype": "text/x-python",
   "name": "python",
   "nbconvert_exporter": "python",
   "pygments_lexer": "ipython2",
   "version": "2.7.11"
  }
 },
 "nbformat": 4,
 "nbformat_minor": 0
}
